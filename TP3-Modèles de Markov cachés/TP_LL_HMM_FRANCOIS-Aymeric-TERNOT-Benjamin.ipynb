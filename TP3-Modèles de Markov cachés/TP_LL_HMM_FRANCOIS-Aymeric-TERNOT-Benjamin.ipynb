{
 "cells": [
  {
   "cell_type": "markdown",
   "metadata": {},
   "source": [
    "# Partie Chaine de Markov (Part 1)\n",
    "## L. Likforman\n",
    "\n",
    "Auteurs: Aymeric François & Benjamin Ternot"
   ]
  },
  {
   "cell_type": "code",
   "execution_count": 1,
   "metadata": {},
   "outputs": [
    {
     "name": "stdout",
     "output_type": "stream",
     "text": [
      "Taille de `A`: 28\n",
      "Taille de `F`: 28\n",
      "Taille de `dic`: 28\n"
     ]
    }
   ],
   "source": [
    "import numpy as np \n",
    "%matplotlib inline\n",
    "import matplotlib.pyplot as plt\n",
    "\n",
    "filename_A='bigramenglish.txt'\n",
    "A=np.loadtxt(filename_A)\n",
    "print(f'Taille de `A`: {len(A)}')\n",
    "filename_F='bigramfrancais.txt'\n",
    "F=np.loadtxt(filename_F)\n",
    "print(f'Taille de `F`: {len(F)}')\n",
    "dic={'1' : ' ', '2' : 'a', '3' : 'b', '4': 'c', '5' : 'd', '6' : 'e', '7': 'f', '8' : 'g', '9' : 'h', '10': 'i', '11': 'j',\n",
    "'12' : 'k', '13' : 'l', '14': 'm', '15' : 'n', '16' : 'o', '17': 'p', '18' : 'q', '19' : 'r' , '20': 's', '21' : 't', '22'\n",
    ": 'u', '23': 'v', '24' : 'w', '25' : 'x' , '26': 'y', '27' : 'z', '28' : ' '}\n",
    "print(f'Taille de `dic`: {len(dic)}')"
   ]
  },
  {
   "cell_type": "markdown",
   "metadata": {},
   "source": [
    "## I.2.a \n",
    "`bigramenglish.txt` contient la matrice des transitions pour l’anglais (bigrams) entre deux symboles (caractères ou espaces). Le terme générique (i,j) de la matrice de transition correspond à la probabilité de transiter vers l’état j à partir de l’état i.\n",
    "A quelles probabilités correspond la première ligne de la matrice de transition ? et celles de la dernière colonne ?\n",
    "Pour chaque lettre de l’alphabet, indiquer la transition la plus fréquente depuis cette lettre"
   ]
  },
  {
   "cell_type": "markdown",
   "metadata": {},
   "source": [
    "**Réponse:**\n",
    "\n",
    "La première ligne correspond aux probabilités pour chaque lettre de débuter un mot, celle de la dernière colonne la probabilité que la lettre soit la dernière lettre d'un mot."
   ]
  },
  {
   "cell_type": "code",
   "execution_count": 2,
   "metadata": {
    "scrolled": true
   },
   "outputs": [],
   "source": [
    "def transitions_frequentes(matrice):\n",
    "    transitions_frequentes = {}\n",
    "    for i,value in dic.items():\n",
    "        j = np.argmax(matrice[int(i)-1,:])\n",
    "        percent = matrice[int(i)-1][j]\n",
    "        transitions_frequentes[i] = (dic[str(j+1)], percent)\n",
    "    return transitions_frequentes\n",
    "\n",
    "def trans_freq_to_str(matrice):\n",
    "    string = \"\"\n",
    "    trans_freq = transitions_frequentes(matrice)\n",
    "    for i, val in trans_freq.items():\n",
    "        letter_j, perc = val\n",
    "        string += f\"'{dic[i]}' -> '{letter_j}' ({perc:.{2 if perc<1 else 1}%})\\n\"\n",
    "    return string\n"
   ]
  },
  {
   "cell_type": "code",
   "execution_count": 3,
   "metadata": {},
   "outputs": [
    {
     "name": "stdout",
     "output_type": "stream",
     "text": [
      "English:\n",
      "' ' -> 't' (16.45%)\n",
      "'a' -> 'n' (22.05%)\n",
      "'b' -> 'e' (28.28%)\n",
      "'c' -> 'o' (16.69%)\n",
      "'d' -> ' ' (59.88%)\n",
      "'e' -> ' ' (36.05%)\n",
      "'f' -> ' ' (39.65%)\n",
      "'g' -> ' ' (31.57%)\n",
      "'h' -> 'e' (46.97%)\n",
      "'i' -> 'n' (24.53%)\n",
      "'j' -> 'o' (46.98%)\n",
      "'k' -> ' ' (37.23%)\n",
      "'l' -> 'e' (17.09%)\n",
      "'m' -> 'e' (26.77%)\n",
      "'n' -> ' ' (29.42%)\n",
      "'o' -> 'n' (16.04%)\n",
      "'p' -> 'e' (19.47%)\n",
      "'q' -> 'u' (96.37%)\n",
      "'r' -> 'e' (24.48%)\n",
      "'s' -> ' ' (43.03%)\n",
      "'t' -> 'h' (33.94%)\n",
      "'u' -> 'r' (15.04%)\n",
      "'v' -> 'e' (61.84%)\n",
      "'w' -> 'a' (20.32%)\n",
      "'x' -> 't' (20.06%)\n",
      "'y' -> ' ' (77.58%)\n",
      "'z' -> 'e' (55.66%)\n",
      "' ' -> ' ' (100.0%)\n",
      "\n",
      "Français:\n",
      "' ' -> 'd' (20.62%)\n",
      "'a' -> 'n' (17.75%)\n",
      "'b' -> 'r' (29.96%)\n",
      "'c' -> 'e' (30.18%)\n",
      "'d' -> 'e' (54.66%)\n",
      "'e' -> ' ' (33.72%)\n",
      "'f' -> 'i' (26.55%)\n",
      "'g' -> 'i' (46.21%)\n",
      "'h' -> 'e' (43.72%)\n",
      "'i' -> 'c' (14.59%)\n",
      "'j' -> 'o' (32.26%)\n",
      "'k' -> 'a' (3.70%)\n",
      "'l' -> 'e' (28.68%)\n",
      "'m' -> 'e' (47.08%)\n",
      "'n' -> ' ' (20.58%)\n",
      "'o' -> 'n' (30.05%)\n",
      "'p' -> 'e' (23.83%)\n",
      "'q' -> 'u' (93.26%)\n",
      "'r' -> 'e' (30.35%)\n",
      "'s' -> ' ' (62.66%)\n",
      "'t' -> ' ' (28.40%)\n",
      "'u' -> 'r' (17.44%)\n",
      "'v' -> 'e' (65.45%)\n",
      "'w' -> 'a' (3.70%)\n",
      "'x' -> ' ' (55.78%)\n",
      "'y' -> 's' (70.97%)\n",
      "'z' -> 'o' (22.22%)\n",
      "' ' -> ' ' (100.0%)\n",
      "\n"
     ]
    }
   ],
   "source": [
    "print(f'English:\\n{trans_freq_to_str(A)}')\n",
    "print(f'Français:\\n{trans_freq_to_str(F)}')"
   ]
  },
  {
   "cell_type": "markdown",
   "metadata": {},
   "source": [
    "## I.2.b\n"
   ]
  },
  {
   "cell_type": "markdown",
   "metadata": {},
   "source": [
    "La fonction `etat_suivant` génère un état (à t+1) à partir de l’état courant (à t) et à l’aide de la matrice de transitions et de la fonction de répartition.\n",
    "Afficher sur un graphique la fonction de répartition \n",
    "pour une ligne de la matrice de transition et expliquer son rôle pour la génération de l’état à t+1.\n",
    "\n"
   ]
  },
  {
   "cell_type": "markdown",
   "metadata": {},
   "source": [
    "**Réponse:**\n",
    "\n",
    "La fonction de répartition $f_i:j\\mapsto f_i(j)$ donne la probabilité cumulée $f_i(j)$ de transiter de l'état $i$ à un état $j'<j$.\n",
    "\n",
    "On s'en sert ici en générant un nombre aléatoire `unif` entre 0 et 1, et en regardant la valeur de `j`pour laquelle $f_i(j)$ devient supérieur à `unif`. Cela permet de respecter de manière simple les probabilités de notre matrice de transition."
   ]
  },
  {
   "cell_type": "code",
   "execution_count": 4,
   "metadata": {},
   "outputs": [
    {
     "data": {
      "image/png": "[encoded data removed]",
      "text/plain": [
       "<Figure size 432x288 with 1 Axes>"
      ]
     },
     "metadata": {
      "needs_background": "light"
     },
     "output_type": "display_data"
    }
   ],
   "source": [
    "plt.step(range(1, 29), np.cumsum(A[2,]))\n",
    "#plt.step()\n",
    "plt.title('Fonction de repartition de etat suivant a partir de etat precedent 3 (lettre b)')\n",
    "plt.xlabel('Etat suivant')\n",
    "plt.ylabel('Probabilite') \n",
    "plt.show()"
   ]
  },
  {
   "cell_type": "code",
   "execution_count": 5,
   "metadata": {},
   "outputs": [],
   "source": [
    "def etat_suivant(ligne_matrice_trans):\n",
    "    '''\n",
    "    La fonction génère un état (à t+1) à partir de l’état courant (à t) \n",
    "    La ligne de la matrice de transitions correspond aux probabilités \n",
    "    de transiter de l etat courant vers les autres etats.\n",
    "    '''\n",
    "    f_repartition = np.cumsum(ligne_matrice_trans)\n",
    "    unif = np.random.random()\n",
    "    stat = 0\n",
    "    while(unif >= f_repartition[stat]):\n",
    "        stat = stat+1\n",
    "    return stat\n"
   ]
  },
  {
   "cell_type": "markdown",
   "metadata": {},
   "source": [
    "Ecrire la fonction genere_state_seq \n",
    "qui génère une séquence d’états jusqu’à aboutir à l’état final (28). \n",
    "Puis ecrire une fonction display_seq qui transforme une séquence d’états \n",
    "en séquence de caractères, à l’aide d’un dictionnaire. \n",
    "Utiliser ces fonctions pour générer des mots.\n"
   ]
  },
  {
   "cell_type": "code",
   "execution_count": 6,
   "metadata": {},
   "outputs": [],
   "source": [
    "def  generate_state_seq(A):\n",
    "    \n",
    "    \"\"\"\n",
    "    Calculate a sequence of states\n",
    "\n",
    "    \"\"\"  \n",
    "    numStates = len(A)\n",
    "# Generate the emitting states sequence \n",
    "    t = 0  \n",
    "    stateSeq=[]   \n",
    "\n",
    "#    a completer\n",
    "    while t!= numStates-1:\n",
    "        t = etat_suivant(A[t,:])\n",
    "        stateSeq.append(t)\n",
    "    return stateSeq"
   ]
  },
  {
   "cell_type": "code",
   "execution_count": 7,
   "metadata": {},
   "outputs": [],
   "source": [
    "def display_seq(seq):\n",
    "    str_seq = \"\"\n",
    "    for t in seq:\n",
    "        str_seq += dic[str(t+1)]\n",
    "    return str_seq"
   ]
  },
  {
   "cell_type": "code",
   "execution_count": 8,
   "metadata": {},
   "outputs": [
    {
     "name": "stdout",
     "output_type": "stream",
     "text": [
      "Generation de mots modèle anglais:\n",
      "\n",
      "ichet \n",
      "hontsns \n",
      "aleryosinoewnis \n",
      "er \n",
      "fo \n",
      "\n",
      "\n",
      "Generation de mots modèle français:\n",
      "\n",
      "qu \n",
      "s \n",
      "fs \n",
      "sas \n",
      "apes \n"
     ]
    }
   ],
   "source": [
    "print('Generation de mots modèle anglais:\\n')\n",
    "for i in range (5) :\n",
    "    seq = generate_state_seq(A)\n",
    "    print(display_seq(seq))\n",
    "print('\\n\\nGeneration de mots modèle français:\\n')\n",
    "for i in range(5):\n",
    "    seq = generate_state_seq(F)\n",
    "    print(display_seq(seq))"
   ]
  },
  {
   "cell_type": "markdown",
   "metadata": {},
   "source": [
    "## I.2.c"
   ]
  },
  {
   "cell_type": "markdown",
   "metadata": {},
   "source": [
    "On veut générer une suite de mots (phrase). Créer un état final de phrase (état 29, correspondant au caractère . ) dont la probabilité de transition vers cet état depuis un état final de mot est 0.1. Ecrire une fonction modifie_mat_dic qui modifie la matrice de transition et le dictionnaire en conséquence. Donner des exemples de phrases générées."
   ]
  },
  {
   "cell_type": "code",
   "execution_count": 9,
   "metadata": {},
   "outputs": [],
   "source": [
    "def modifie_mat_dic(A,dic) :\n",
    "    dic['29']='.'\n",
    "    A_mod=np.zeros((29,29))\n",
    "    A_mod[0:28, 0:28] = A[:,:]\n",
    "    A_mod[27, 0] = 0.9\n",
    "    A_mod[27, 27:] = 0, 0.1\n",
    "    return A_mod,dic"
   ]
  },
  {
   "cell_type": "code",
   "execution_count": 10,
   "metadata": {},
   "outputs": [],
   "source": [
    "Amod,dicmod=modifie_mat_dic(A,dic)\n",
    "Fmod,dicmod=modifie_mat_dic(F,dic)"
   ]
  },
  {
   "cell_type": "code",
   "execution_count": 11,
   "metadata": {},
   "outputs": [],
   "source": [
    "def genere_phrase(A,dic) :\n",
    "    t=0\n",
    "    numStates=len(dic)\n",
    "    stateSeq=[]\n",
    "    # stateSeq est une liste\n",
    "    while t!= numStates-1:\n",
    "        t = etat_suivant(A[t,:])\n",
    "        stateSeq.append(t)\n",
    "    return stateSeq"
   ]
  },
  {
   "cell_type": "code",
   "execution_count": 12,
   "metadata": {},
   "outputs": [
    {
     "name": "stdout",
     "output_type": "stream",
     "text": [
      "Generation de phrases modèle anglais:\n",
      "\n",
      "pith  thachelellew  inofr  ge  ll  g  d  wasagalialtehe  on  ane  buctra  angestia  itimlirean  s  tlifoull  oferon  in  hichan  s  a .\n",
      "obrer  tayo  a  wicof  d  f .\n",
      "ve  ty  ourade  dillich .\n",
      "ranth  t  futhed  stes .\n",
      "ld  th  cung  ereave  nd .\n",
      "\n",
      "\n",
      "Generation de phrases modèle français:\n",
      "\n",
      "qur  lon  drercoprecri  diec  des  anonontr  s  litans  dens  liquepeus  edu .\n",
      "pr  donterr  deronetiourens  ancis  ela  dete  lstrioge  s  ece  uit  e  nctrier  l .\n",
      "syt  autelites  jenoursas  durs  ve  gitin  qume  mes  ansoicens  e  us  an .\n",
      "dans  duc  pen  a  donfis  mene  bl  len  amestet  routrent  usqus  de  antausaias .\n",
      "debrmecouiemppoghes  lelicis  aue  e  laces  pre  as  ne  uxprmenueibr  d  uesamplos  an  les .\n"
     ]
    }
   ],
   "source": [
    "print('Generation de phrases modèle anglais:\\n')\n",
    "for i in range (5) :\n",
    "    state_seq=genere_phrase(Amod,dicmod)\n",
    "    #print(state_seq)\n",
    "    print(display_seq(state_seq))\n",
    "print('\\n\\nGeneration de phrases modèle français:\\n')\n",
    "for i in range (5) :\n",
    "    state_seq=genere_phrase(Fmod,dicmod)\n",
    "    #print(state_seq)\n",
    "    print(display_seq(state_seq))"
   ]
  },
  {
   "cell_type": "markdown",
   "metadata": {},
   "source": [
    "## I.3\n"
   ]
  },
  {
   "cell_type": "code",
   "execution_count": 13,
   "metadata": {},
   "outputs": [],
   "source": [
    "#transformer les espaces en +/- dans le dictionnaire et inversion\n",
    "dicmodtransf=dicmod.copy()\n",
    "dicmodtransf['1']='-'\n",
    "dicmodtransf['28']='+'\n",
    "dicmodtransf['29']='.'"
   ]
  },
  {
   "cell_type": "markdown",
   "metadata": {},
   "source": [
    "Charger la matrice des transitions entre caractères pour le français. Ecrire une fonction `calc_vraisemblance` qui calcule la vraisemblance du modèle français pour une phrase donnée en multipliant les probabilités de transition. Pour tenir compte de toutes les transitions (notamment celles entre espaces de fin et de début de mots et vers la fin de phrase) on pourra transformer une séquence « mot1 mot2.» par la séquence « -mot1+-mot2+.», les signes - , + et . représentant l’état initial de mot, l’état final de mot et l’état final de phrase, respectivement.\n"
   ]
  },
  {
   "cell_type": "code",
   "execution_count": 14,
   "metadata": {},
   "outputs": [],
   "source": [
    "def calc_vraisemblance(string, dic, mat) : \n",
    "    dicInv = {v: k for k, v in dic.items()} \n",
    "    vraisemblance = 1.0\n",
    "    state = dicInv[string[0]]\n",
    "    for char in string[1:]:\n",
    "        vraisemblance *= mat[int(state)-1, int(dicInv[char])-1]\n",
    "        state = dicInv[char]\n",
    "    return vraisemblance"
   ]
  },
  {
   "cell_type": "markdown",
   "metadata": {},
   "source": [
    "Calculer la vraisemblance des modèles français et anglais pour la phrase « to be or not to be ». De même calculer la vraisemblance des modèles français et anglais pour la phrase « etre ou ne pas etre »."
   ]
  },
  {
   "cell_type": "code",
   "execution_count": 15,
   "metadata": {},
   "outputs": [
    {
     "name": "stdout",
     "output_type": "stream",
     "text": [
      "Modèle anglais pour \"-to+-be+-or+-not+-to+-be+.\": vraissemblance = 8.11e-20\n",
      "Modèle français pour \"-to+-be+-or+-not+-to+-be+.\": vraissemblance = 5.96e-30\n",
      "Modèle anglais pour \"-etre+-ou+-ne+-pas+-etre+.\": vraissemblance = 4.46e-24\n",
      "Modèle français pour \"-etre+-ou+-ne+-pas+-etre+.\": vraissemblance = 1.15e-19\n"
     ]
    }
   ],
   "source": [
    "for sentence in [\"-to+-be+-or+-not+-to+-be+.\", \"-etre+-ou+-ne+-pas+-etre+.\"]:\n",
    "    print(f'Modèle anglais pour \"{sentence}\": vraissemblance = {calc_vraisemblance(sentence,dicmodtransf,Amod):.2e}')\n",
    "    print(f'Modèle français pour \"{sentence}\": vraissemblance = {calc_vraisemblance(sentence,dicmodtransf,Fmod):.2e}')"
   ]
  },
  {
   "cell_type": "markdown",
   "metadata": {},
   "source": [
    "## II.2"
   ]
  },
  {
   "cell_type": "code",
   "execution_count": 16,
   "metadata": {},
   "outputs": [],
   "source": [
    "v = np.loadtxt('data_txt_compact\\\\' + 'matrice_symboles.txt')\n",
    "A0 = np.loadtxt('data_txt_compact\\\\' + 'A0.txt')\n",
    "B0 = np.loadtxt('data_txt_compact\\\\' + 'B0.txt')\n",
    "pi0 = np.loadtxt('data_txt_compact\\\\' + 'vect_pi0.txt')"
   ]
  },
  {
   "cell_type": "markdown",
   "metadata": {},
   "source": [
    "### II.2.1\n",
    "* Les zéros de la matrice `B` correspondent aux probabilités nulles pour une observation donnée (en ligne) de correspondre à un état (en colonne).\n",
    "* Les zéros de la matrice `A` correspondent aux probabilités nulles pour un état q_i (en ligne) de transiter à un état q_j (en colonne).\n",
    "* Les zéros du vecteur $\\pi$ correspondent aux états de probabilité nulles.\n",
    "\n",
    "\n",
    "### II.2.2\n",
    "pour la ligne $i$, la fonction de répartition $f_i:j\\mapsto f_i(j)$ de la matrice de transition nous donne la probabilité cumulée de passer d'un état $i$ à un état $j'< j$."
   ]
  },
  {
   "cell_type": "code",
   "execution_count": 17,
   "metadata": {},
   "outputs": [],
   "source": [
    "def etat_suivant(etat_i, matrice_trans):\n",
    "    '''\n",
    "    La fonction génère un état (à t+1) à partir de l’état courant (à t) \n",
    "    La ligne de la matrice de transitions correspond aux probabilités \n",
    "    de transiter de l etat courant vers les autres etats.\n",
    "    '''\n",
    "    f_repartition = np.cumsum(matrice_trans[etat_i])\n",
    "    unif = np.random.random()\n",
    "    etat_suivant = 0\n",
    "    while(unif >= f_repartition[etat_suivant] and etat_suivant<31):\n",
    "        etat_suivant += 1\n",
    "    return etat_suivant"
   ]
  },
  {
   "cell_type": "code",
   "execution_count": 18,
   "metadata": {},
   "outputs": [
    {
     "data": {
      "image/png": "[encoded data removed]",
      "text/plain": [
       "<Figure size 432x288 with 1 Axes>"
      ]
     },
     "metadata": {
      "needs_background": "light"
     },
     "output_type": "display_data"
    }
   ],
   "source": [
    "plt.step(range(1, 6), np.cumsum(A0[2,]))\n",
    "#plt.step()\n",
    "plt.title('Fonction de répartition de l\\'état suivant à partir de l\\'état 3')\n",
    "plt.xlabel('Etat suivant')\n",
    "plt.ylabel('Probabilité') \n",
    "plt.show()"
   ]
  },
  {
   "cell_type": "markdown",
   "metadata": {},
   "source": [
    "## II.2.3"
   ]
  },
  {
   "cell_type": "code",
   "execution_count": 19,
   "metadata": {},
   "outputs": [],
   "source": [
    "def  generate_obs_seq(A, B, pi):\n",
    "    \n",
    "    \"\"\"\n",
    "    Calculate a sequence of states\n",
    "\n",
    "    \"\"\"  \n",
    "    numStates = len(A)\n",
    "    # Generate the emitting states sequence \n",
    "    f_repartition = np.cumsum(pi)\n",
    "    unif = np.random.random()\n",
    "    t = 0\n",
    "    while(unif >= f_repartition[t] and t<4):\n",
    "        t += 1\n",
    "    obsSeq=[]\n",
    "    while t!= numStates-1:\n",
    "        t = etat_suivant(t, A)\n",
    "        obsSeq.append(etat_suivant(t, B.T))\n",
    "    return obsSeq"
   ]
  },
  {
   "cell_type": "code",
   "execution_count": 20,
   "metadata": {},
   "outputs": [
    {
     "name": "stdout",
     "output_type": "stream",
     "text": [
      "[0, 0, 0, 0, 0, 0, 0, 0, 13, 22, 22, 22, 13, 22, 17, 11, 22, 10, 26, 22, 0]\n"
     ]
    }
   ],
   "source": [
    "obs_seq = generate_obs_seq(A0, B0, pi0)\n",
    "print(obs_seq)"
   ]
  },
  {
   "cell_type": "markdown",
   "metadata": {},
   "source": [
    "### II.2.4"
   ]
  },
  {
   "cell_type": "code",
   "execution_count": 21,
   "metadata": {},
   "outputs": [
    {
     "data": {
      "image/png": "[encoded data removed]",
      "text/plain": [
       "<Figure size 432x288 with 1 Axes>"
      ]
     },
     "metadata": {
      "needs_background": "light"
     },
     "output_type": "display_data"
    }
   ],
   "source": [
    "import matplotlib.pyplot as plt\n",
    "im=[]\n",
    "obs_seq = generate_obs_seq(A0, B0, pi0)\n",
    "# les x contiennent les index dans le dictionnaire\n",
    "for obs in (obs_seq) :\n",
    "    im_col=v[:, obs]\n",
    "    im.append(im_col)\n",
    "im = np.array(im).T # now make an array\n",
    "plt.imshow(im, cmap='gray', interpolation='none', aspect='auto')\n",
    "plt.show()"
   ]
  },
  {
   "cell_type": "code",
   "execution_count": 22,
   "metadata": {},
   "outputs": [
    {
     "data": {
      "image/png": "[encoded data removed]",
      "text/plain": [
       "<Figure size 432x288 with 1 Axes>"
      ]
     },
     "metadata": {
      "needs_background": "light"
     },
     "output_type": "display_data"
    },
    {
     "data": {
      "image/png": "[encoded data removed]",
      "text/plain": [
       "<Figure size 432x288 with 1 Axes>"
      ]
     },
     "metadata": {
      "needs_background": "light"
     },
     "output_type": "display_data"
    },
    {
     "data": {
      "image/png": "[encoded data removed]",
      "text/plain": [
       "<Figure size 432x288 with 1 Axes>"
      ]
     },
     "metadata": {
      "needs_background": "light"
     },
     "output_type": "display_data"
    },
    {
     "data": {
      "image/png": "[encoded data removed]",
      "text/plain": [
       "<Figure size 432x288 with 1 Axes>"
      ]
     },
     "metadata": {
      "needs_background": "light"
     },
     "output_type": "display_data"
    },
    {
     "data": {
      "image/png": "[encoded data removed]",
      "text/plain": [
       "<Figure size 432x288 with 1 Axes>"
      ]
     },
     "metadata": {
      "needs_background": "light"
     },
     "output_type": "display_data"
    },
    {
     "data": {
      "image/png": "[encoded data removed]",
      "text/plain": [
       "<Figure size 432x288 with 1 Axes>"
      ]
     },
     "metadata": {
      "needs_background": "light"
     },
     "output_type": "display_data"
    },
    {
     "data": {
      "image/png": "[encoded data removed]",
      "text/plain": [
       "<Figure size 432x288 with 1 Axes>"
      ]
     },
     "metadata": {
      "needs_background": "light"
     },
     "output_type": "display_data"
    },
    {
     "data": {
      "image/png": "[encoded data removed]",
      "text/plain": [
       "<Figure size 432x288 with 1 Axes>"
      ]
     },
     "metadata": {
      "needs_background": "light"
     },
     "output_type": "display_data"
    },
    {
     "data": {
      "image/png": "[encoded data removed]",
      "text/plain": [
       "<Figure size 432x288 with 1 Axes>"
      ]
     },
     "metadata": {
      "needs_background": "light"
     },
     "output_type": "display_data"
    },
    {
     "data": {
      "image/png": "[encoded data removed]",
      "text/plain": [
       "<Figure size 432x288 with 1 Axes>"
      ]
     },
     "metadata": {
      "needs_background": "light"
     },
     "output_type": "display_data"
    },
    {
     "data": {
      "image/png": "[encoded data removed]",
      "text/plain": [
       "<Figure size 432x288 with 1 Axes>"
      ]
     },
     "metadata": {
      "needs_background": "light"
     },
     "output_type": "display_data"
    },
    {
     "data": {
      "image/png": "[encoded data removed]",
      "text/plain": [
       "<Figure size 432x288 with 1 Axes>"
      ]
     },
     "metadata": {
      "needs_background": "light"
     },
     "output_type": "display_data"
    },
    {
     "data": {
      "image/png": "[encoded data removed]",
      "text/plain": [
       "<Figure size 432x288 with 1 Axes>"
      ]
     },
     "metadata": {
      "needs_background": "light"
     },
     "output_type": "display_data"
    },
    {
     "data": {
      "image/png": "[encoded data removed]",
      "text/plain": [
       "<Figure size 432x288 with 1 Axes>"
      ]
     },
     "metadata": {
      "needs_background": "light"
     },
     "output_type": "display_data"
    },
    {
     "data": {
      "image/png": "[encoded data removed]",
      "text/plain": [
       "<Figure size 432x288 with 1 Axes>"
      ]
     },
     "metadata": {
      "needs_background": "light"
     },
     "output_type": "display_data"
    },
    {
     "data": {
      "image/png": "[encoded data removed]",
      "text/plain": [
       "<Figure size 432x288 with 1 Axes>"
      ]
     },
     "metadata": {
      "needs_background": "light"
     },
     "output_type": "display_data"
    },
    {
     "data": {
      "image/png": "[encoded data removed]",
      "text/plain": [
       "<Figure size 432x288 with 1 Axes>"
      ]
     },
     "metadata": {
      "needs_background": "light"
     },
     "output_type": "display_data"
    },
    {
     "data": {
      "image/png": "[encoded data removed]",
      "text/plain": [
       "<Figure size 432x288 with 1 Axes>"
      ]
     },
     "metadata": {
      "needs_background": "light"
     },
     "output_type": "display_data"
    },
    {
     "data": {
      "image/png": "[encoded data removed]",
      "text/plain": [
       "<Figure size 432x288 with 1 Axes>"
      ]
     },
     "metadata": {
      "needs_background": "light"
     },
     "output_type": "display_data"
    },
    {
     "data": {
      "image/png": "[encoded data removed]",
      "text/plain": [
       "<Figure size 432x288 with 1 Axes>"
      ]
     },
     "metadata": {
      "needs_background": "light"
     },
     "output_type": "display_data"
    },
    {
     "data": {
      "image/png": "[encoded data removed]",
      "text/plain": [
       "<Figure size 432x288 with 1 Axes>"
      ]
     },
     "metadata": {
      "needs_background": "light"
     },
     "output_type": "display_data"
    },
    {
     "data": {
      "image/png": "[encoded data removed]",
      "text/plain": [
       "<Figure size 432x288 with 1 Axes>"
      ]
     },
     "metadata": {
      "needs_background": "light"
     },
     "output_type": "display_data"
    },
    {
     "data": {
      "image/png": "[encoded data removed]",
      "text/plain": [
       "<Figure size 432x288 with 1 Axes>"
      ]
     },
     "metadata": {
      "needs_background": "light"
     },
     "output_type": "display_data"
    },
    {
     "data": {
      "image/png": "[encoded data removed]",
      "text/plain": [
       "<Figure size 432x288 with 1 Axes>"
      ]
     },
     "metadata": {
      "needs_background": "light"
     },
     "output_type": "display_data"
    },
    {
     "data": {
      "image/png": "[encoded data removed]",
      "text/plain": [
       "<Figure size 432x288 with 1 Axes>"
      ]
     },
     "metadata": {
      "needs_background": "light"
     },
     "output_type": "display_data"
    },
    {
     "data": {
      "image/png": "[encoded data removed]",
      "text/plain": [
       "<Figure size 432x288 with 1 Axes>"
      ]
     },
     "metadata": {
      "needs_background": "light"
     },
     "output_type": "display_data"
    },
    {
     "data": {
      "image/png": "[encoded data removed]",
      "text/plain": [
       "<Figure size 432x288 with 1 Axes>"
      ]
     },
     "metadata": {
      "needs_background": "light"
     },
     "output_type": "display_data"
    },
    {
     "data": {
      "image/png": "[encoded data removed]",
      "text/plain": [
       "<Figure size 432x288 with 1 Axes>"
      ]
     },
     "metadata": {
      "needs_background": "light"
     },
     "output_type": "display_data"
    },
    {
     "data": {
      "image/png": "[encoded data removed]",
      "text/plain": [
       "<Figure size 432x288 with 1 Axes>"
      ]
     },
     "metadata": {
      "needs_background": "light"
     },
     "output_type": "display_data"
    },
    {
     "data": {
      "image/png": "[encoded data removed]",
      "text/plain": [
       "<Figure size 432x288 with 1 Axes>"
      ]
     },
     "metadata": {
      "needs_background": "light"
     },
     "output_type": "display_data"
    }
   ],
   "source": [
    "for i in ['0', '1', '7']:\n",
    "    Ai = np.loadtxt('data_txt_compact\\\\' + f'A{i}.txt')\n",
    "    Bi = np.loadtxt('data_txt_compact\\\\' + f'B{i}.txt')\n",
    "    pi_i = np.loadtxt('data_txt_compact\\\\' + f'vect_pi{i}.txt')\n",
    "    for _ in range(10):\n",
    "        im=[]\n",
    "        obs_seq = generate_obs_seq(Ai, Bi, pi_i)\n",
    "        for obs in (obs_seq):\n",
    "            im_col=v[:, obs]\n",
    "            im.append(im_col)\n",
    "        im = np.array(im).T # now make an array\n",
    "        plt.imshow(im, cmap='gray', interpolation='none', aspect='auto')\n",
    "        plt.title(f'chiffre {i}')\n",
    "        plt.show()"
   ]
  },
  {
   "cell_type": "markdown",
   "metadata": {},
   "source": [
    "## II.3\n",
    "### II.3.1"
   ]
  },
  {
   "cell_type": "code",
   "execution_count": 23,
   "metadata": {},
   "outputs": [],
   "source": [
    "def viterbi_log(seq, A, B, pi):\n",
    "    etats = range(A.shape[0])\n",
    "    T = len(seq)\n",
    "    V = np.zeros((T, A.shape[0]))\n",
    "    chemin = np.zeros((T,))\n",
    "\n",
    "    # Initialisation\n",
    "    V[0] = (A @ B.T)[etats, :].T + seq[0]\n",
    "\n",
    "    # Récursion\n",
    "    for t in range(1, T):\n",
    "        temp = V[t-1] + (A @ B.T)[etats, :].T\n",
    "        V[t] = np.max(temp, axis=1) + seq[t]\n",
    "        chemin[t-1] = np.argmax(temp, axis=1)\n",
    "\n",
    "    # Retour de la séquence la plus probable\n",
    "    dernier_etat = np.argmax(V[-1])\n",
    "    sequence_etats = [dernier_etat]\n",
    "    for t in range(T-2, -1, -1):\n",
    "        dernier_etat = chemin[t, int(dernier_etat)]\n",
    "        sequence_etats.insert(0, dernier_etat)\n",
    "\n",
    "    return sequence_etats"
   ]
  }
 ],
 "metadata": {
  "kernelspec": {
   "display_name": "Python 3 (ipykernel)",
   "language": "python",
   "name": "python3"
  },
  "language_info": {
   "codemirror_mode": {
    "name": "ipython",
    "version": 3
   },
   "file_extension": ".py",
   "mimetype": "text/x-python",
   "name": "python",
   "nbconvert_exporter": "python",
   "pygments_lexer": "ipython3",
   "version": "3.9.7"
  }
 },
 "nbformat": 4,
 "nbformat_minor": 2
}
